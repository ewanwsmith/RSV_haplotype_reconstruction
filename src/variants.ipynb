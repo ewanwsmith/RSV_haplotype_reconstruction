{
 "cells": [
  {
   "cell_type": "markdown",
   "metadata": {},
   "source": [
    "# from .out file to a plot of mutation directions\n",
    "\n",
    "put full path to Variants.out file, desired coverage cutoff, and desired minimum variant frequency below"
   ]
  },
  {
   "cell_type": "code",
   "execution_count": 1,
   "metadata": {},
   "outputs": [
    {
     "data": {
      "text/plain": [
       "0.1"
      ]
     },
     "metadata": {},
     "output_type": "display_data"
    }
   ],
   "source": [
    "path = \"/Users/e.smith.5/Documents/PhD/RSV_project/RSV_haplotype_reconstruction/data/Variants9.out\"\n",
    "\n",
    "coverage_threshold = 100\n",
    "\n",
    "minimum_frequency = 0.1"
   ]
  },
  {
   "cell_type": "code",
   "execution_count": 2,
   "metadata": {},
   "outputs": [
    {
     "data": {
      "text/html": [
       "<div><div style = \"float: left;\"><span>15233×6 DataFrame</span></div><div style = \"float: right;\"><span style = \"font-style: italic;\">15208 rows omitted</span></div><div style = \"clear: both;\"></div></div><div class = \"data-frame\" style = \"overflow-x: scroll;\"><table class = \"data-frame\" style = \"margin-bottom: 6px;\"><thead><tr class = \"header\"><th class = \"rowNumber\" style = \"font-weight: bold; text-align: right;\">Row</th><th style = \"text-align: left;\">pos</th><th style = \"text-align: left;\">A</th><th style = \"text-align: left;\">C</th><th style = \"text-align: left;\">G</th><th style = \"text-align: left;\">T</th><th style = \"text-align: left;\">n</th></tr><tr class = \"subheader headerLastRow\"><th class = \"rowNumber\" style = \"font-weight: bold; text-align: right;\"></th><th title = \"Int64\" style = \"text-align: left;\">Int64</th><th title = \"Int64\" style = \"text-align: left;\">Int64</th><th title = \"Int64\" style = \"text-align: left;\">Int64</th><th title = \"Int64\" style = \"text-align: left;\">Int64</th><th title = \"Int64\" style = \"text-align: left;\">Int64</th><th title = \"Int64\" style = \"text-align: left;\">Int64</th></tr></thead><tbody><tr><td class = \"rowNumber\" style = \"font-weight: bold; text-align: right;\">1</td><td style = \"text-align: right;\">1</td><td style = \"text-align: right;\">158</td><td style = \"text-align: right;\">0</td><td style = \"text-align: right;\">0</td><td style = \"text-align: right;\">0</td><td style = \"text-align: right;\">158</td></tr><tr><td class = \"rowNumber\" style = \"font-weight: bold; text-align: right;\">2</td><td style = \"text-align: right;\">2</td><td style = \"text-align: right;\">160</td><td style = \"text-align: right;\">0</td><td style = \"text-align: right;\">0</td><td style = \"text-align: right;\">0</td><td style = \"text-align: right;\">160</td></tr><tr><td class = \"rowNumber\" style = \"font-weight: bold; text-align: right;\">3</td><td style = \"text-align: right;\">3</td><td style = \"text-align: right;\">160</td><td style = \"text-align: right;\">0</td><td style = \"text-align: right;\">0</td><td style = \"text-align: right;\">2</td><td style = \"text-align: right;\">162</td></tr><tr><td class = \"rowNumber\" style = \"font-weight: bold; text-align: right;\">4</td><td style = \"text-align: right;\">4</td><td style = \"text-align: right;\">0</td><td style = \"text-align: right;\">199</td><td style = \"text-align: right;\">0</td><td style = \"text-align: right;\">0</td><td style = \"text-align: right;\">199</td></tr><tr><td class = \"rowNumber\" style = \"font-weight: bold; text-align: right;\">5</td><td style = \"text-align: right;\">5</td><td style = \"text-align: right;\">0</td><td style = \"text-align: right;\">0</td><td style = \"text-align: right;\">0</td><td style = \"text-align: right;\">201</td><td style = \"text-align: right;\">201</td></tr><tr><td class = \"rowNumber\" style = \"font-weight: bold; text-align: right;\">6</td><td style = \"text-align: right;\">6</td><td style = \"text-align: right;\">0</td><td style = \"text-align: right;\">2</td><td style = \"text-align: right;\">0</td><td style = \"text-align: right;\">211</td><td style = \"text-align: right;\">213</td></tr><tr><td class = \"rowNumber\" style = \"font-weight: bold; text-align: right;\">7</td><td style = \"text-align: right;\">7</td><td style = \"text-align: right;\">0</td><td style = \"text-align: right;\">0</td><td style = \"text-align: right;\">238</td><td style = \"text-align: right;\">0</td><td style = \"text-align: right;\">238</td></tr><tr><td class = \"rowNumber\" style = \"font-weight: bold; text-align: right;\">8</td><td style = \"text-align: right;\">8</td><td style = \"text-align: right;\">0</td><td style = \"text-align: right;\">260</td><td style = \"text-align: right;\">0</td><td style = \"text-align: right;\">1</td><td style = \"text-align: right;\">261</td></tr><tr><td class = \"rowNumber\" style = \"font-weight: bold; text-align: right;\">9</td><td style = \"text-align: right;\">9</td><td style = \"text-align: right;\">0</td><td style = \"text-align: right;\">0</td><td style = \"text-align: right;\">280</td><td style = \"text-align: right;\">0</td><td style = \"text-align: right;\">280</td></tr><tr><td class = \"rowNumber\" style = \"font-weight: bold; text-align: right;\">10</td><td style = \"text-align: right;\">10</td><td style = \"text-align: right;\">0</td><td style = \"text-align: right;\">0</td><td style = \"text-align: right;\">0</td><td style = \"text-align: right;\">281</td><td style = \"text-align: right;\">281</td></tr><tr><td class = \"rowNumber\" style = \"font-weight: bold; text-align: right;\">11</td><td style = \"text-align: right;\">11</td><td style = \"text-align: right;\">277</td><td style = \"text-align: right;\">0</td><td style = \"text-align: right;\">7</td><td style = \"text-align: right;\">0</td><td style = \"text-align: right;\">284</td></tr><tr><td class = \"rowNumber\" style = \"font-weight: bold; text-align: right;\">12</td><td style = \"text-align: right;\">12</td><td style = \"text-align: right;\">278</td><td style = \"text-align: right;\">0</td><td style = \"text-align: right;\">1</td><td style = \"text-align: right;\">0</td><td style = \"text-align: right;\">279</td></tr><tr><td class = \"rowNumber\" style = \"font-weight: bold; text-align: right;\">13</td><td style = \"text-align: right;\">13</td><td style = \"text-align: right;\">284</td><td style = \"text-align: right;\">0</td><td style = \"text-align: right;\">0</td><td style = \"text-align: right;\">0</td><td style = \"text-align: right;\">284</td></tr><tr><td style = \"text-align: right;\">&vellip;</td><td style = \"text-align: right;\">&vellip;</td><td style = \"text-align: right;\">&vellip;</td><td style = \"text-align: right;\">&vellip;</td><td style = \"text-align: right;\">&vellip;</td><td style = \"text-align: right;\">&vellip;</td><td style = \"text-align: right;\">&vellip;</td></tr><tr><td class = \"rowNumber\" style = \"font-weight: bold; text-align: right;\">15222</td><td style = \"text-align: right;\">15222</td><td style = \"text-align: right;\">0</td><td style = \"text-align: right;\">0</td><td style = \"text-align: right;\">0</td><td style = \"text-align: right;\">1</td><td style = \"text-align: right;\">1</td></tr><tr><td class = \"rowNumber\" style = \"font-weight: bold; text-align: right;\">15223</td><td style = \"text-align: right;\">15223</td><td style = \"text-align: right;\">1</td><td style = \"text-align: right;\">0</td><td style = \"text-align: right;\">0</td><td style = \"text-align: right;\">0</td><td style = \"text-align: right;\">1</td></tr><tr><td class = \"rowNumber\" style = \"font-weight: bold; text-align: right;\">15224</td><td style = \"text-align: right;\">15224</td><td style = \"text-align: right;\">0</td><td style = \"text-align: right;\">1</td><td style = \"text-align: right;\">0</td><td style = \"text-align: right;\">0</td><td style = \"text-align: right;\">1</td></tr><tr><td class = \"rowNumber\" style = \"font-weight: bold; text-align: right;\">15225</td><td style = \"text-align: right;\">15225</td><td style = \"text-align: right;\">0</td><td style = \"text-align: right;\">0</td><td style = \"text-align: right;\">1</td><td style = \"text-align: right;\">0</td><td style = \"text-align: right;\">1</td></tr><tr><td class = \"rowNumber\" style = \"font-weight: bold; text-align: right;\">15226</td><td style = \"text-align: right;\">15226</td><td style = \"text-align: right;\">1</td><td style = \"text-align: right;\">0</td><td style = \"text-align: right;\">0</td><td style = \"text-align: right;\">0</td><td style = \"text-align: right;\">1</td></tr><tr><td class = \"rowNumber\" style = \"font-weight: bold; text-align: right;\">15227</td><td style = \"text-align: right;\">15227</td><td style = \"text-align: right;\">0</td><td style = \"text-align: right;\">0</td><td style = \"text-align: right;\">1</td><td style = \"text-align: right;\">0</td><td style = \"text-align: right;\">1</td></tr><tr><td class = \"rowNumber\" style = \"font-weight: bold; text-align: right;\">15228</td><td style = \"text-align: right;\">15228</td><td style = \"text-align: right;\">0</td><td style = \"text-align: right;\">0</td><td style = \"text-align: right;\">0</td><td style = \"text-align: right;\">0</td><td style = \"text-align: right;\">0</td></tr><tr><td class = \"rowNumber\" style = \"font-weight: bold; text-align: right;\">15229</td><td style = \"text-align: right;\">15229</td><td style = \"text-align: right;\">0</td><td style = \"text-align: right;\">0</td><td style = \"text-align: right;\">0</td><td style = \"text-align: right;\">1</td><td style = \"text-align: right;\">1</td></tr><tr><td class = \"rowNumber\" style = \"font-weight: bold; text-align: right;\">15230</td><td style = \"text-align: right;\">15230</td><td style = \"text-align: right;\">1</td><td style = \"text-align: right;\">0</td><td style = \"text-align: right;\">0</td><td style = \"text-align: right;\">0</td><td style = \"text-align: right;\">1</td></tr><tr><td class = \"rowNumber\" style = \"font-weight: bold; text-align: right;\">15231</td><td style = \"text-align: right;\">15231</td><td style = \"text-align: right;\">0</td><td style = \"text-align: right;\">0</td><td style = \"text-align: right;\">0</td><td style = \"text-align: right;\">1</td><td style = \"text-align: right;\">1</td></tr><tr><td class = \"rowNumber\" style = \"font-weight: bold; text-align: right;\">15232</td><td style = \"text-align: right;\">15232</td><td style = \"text-align: right;\">0</td><td style = \"text-align: right;\">0</td><td style = \"text-align: right;\">0</td><td style = \"text-align: right;\">1</td><td style = \"text-align: right;\">1</td></tr><tr><td class = \"rowNumber\" style = \"font-weight: bold; text-align: right;\">15233</td><td style = \"text-align: right;\">15233</td><td style = \"text-align: right;\">1</td><td style = \"text-align: right;\">0</td><td style = \"text-align: right;\">0</td><td style = \"text-align: right;\">0</td><td style = \"text-align: right;\">1</td></tr></tbody></table></div>"
      ],
      "text/latex": [
       "\\begin{tabular}{r|cccccc}\n",
       "\t& pos & A & C & G & T & n\\\\\n",
       "\t\\hline\n",
       "\t& Int64 & Int64 & Int64 & Int64 & Int64 & Int64\\\\\n",
       "\t\\hline\n",
       "\t1 & 1 & 158 & 0 & 0 & 0 & 158 \\\\\n",
       "\t2 & 2 & 160 & 0 & 0 & 0 & 160 \\\\\n",
       "\t3 & 3 & 160 & 0 & 0 & 2 & 162 \\\\\n",
       "\t4 & 4 & 0 & 199 & 0 & 0 & 199 \\\\\n",
       "\t5 & 5 & 0 & 0 & 0 & 201 & 201 \\\\\n",
       "\t6 & 6 & 0 & 2 & 0 & 211 & 213 \\\\\n",
       "\t7 & 7 & 0 & 0 & 238 & 0 & 238 \\\\\n",
       "\t8 & 8 & 0 & 260 & 0 & 1 & 261 \\\\\n",
       "\t9 & 9 & 0 & 0 & 280 & 0 & 280 \\\\\n",
       "\t10 & 10 & 0 & 0 & 0 & 281 & 281 \\\\\n",
       "\t11 & 11 & 277 & 0 & 7 & 0 & 284 \\\\\n",
       "\t12 & 12 & 278 & 0 & 1 & 0 & 279 \\\\\n",
       "\t13 & 13 & 284 & 0 & 0 & 0 & 284 \\\\\n",
       "\t14 & 14 & 0 & 284 & 0 & 0 & 284 \\\\\n",
       "\t15 & 15 & 0 & 297 & 0 & 0 & 297 \\\\\n",
       "\t16 & 16 & 311 & 0 & 0 & 1 & 312 \\\\\n",
       "\t17 & 17 & 327 & 0 & 0 & 0 & 327 \\\\\n",
       "\t18 & 18 & 238 & 0 & 94 & 0 & 332 \\\\\n",
       "\t19 & 19 & 337 & 0 & 0 & 0 & 337 \\\\\n",
       "\t20 & 20 & 343 & 0 & 0 & 0 & 343 \\\\\n",
       "\t21 & 21 & 335 & 1 & 0 & 0 & 336 \\\\\n",
       "\t22 & 22 & 329 & 0 & 0 & 0 & 329 \\\\\n",
       "\t23 & 23 & 0 & 0 & 1 & 349 & 350 \\\\\n",
       "\t24 & 24 & 0 & 3 & 358 & 0 & 361 \\\\\n",
       "\t$\\dots$ & $\\dots$ & $\\dots$ & $\\dots$ & $\\dots$ & $\\dots$ & $\\dots$ \\\\\n",
       "\\end{tabular}\n"
      ],
      "text/plain": [
       "\u001b[1m15233×6 DataFrame\u001b[0m\n",
       "\u001b[1m   Row \u001b[0m│\u001b[1m pos   \u001b[0m\u001b[1m A     \u001b[0m\u001b[1m C     \u001b[0m\u001b[1m G     \u001b[0m\u001b[1m T     \u001b[0m\u001b[1m n     \u001b[0m\n",
       "       │\u001b[90m Int64 \u001b[0m\u001b[90m Int64 \u001b[0m\u001b[90m Int64 \u001b[0m\u001b[90m Int64 \u001b[0m\u001b[90m Int64 \u001b[0m\u001b[90m Int64 \u001b[0m\n",
       "───────┼──────────────────────────────────────────\n",
       "     1 │     1    158      0      0      0    158\n",
       "     2 │     2    160      0      0      0    160\n",
       "     3 │     3    160      0      0      2    162\n",
       "     4 │     4      0    199      0      0    199\n",
       "     5 │     5      0      0      0    201    201\n",
       "     6 │     6      0      2      0    211    213\n",
       "     7 │     7      0      0    238      0    238\n",
       "     8 │     8      0    260      0      1    261\n",
       "   ⋮   │   ⋮      ⋮      ⋮      ⋮      ⋮      ⋮\n",
       " 15227 │ 15227      0      0      1      0      1\n",
       " 15228 │ 15228      0      0      0      0      0\n",
       " 15229 │ 15229      0      0      0      1      1\n",
       " 15230 │ 15230      1      0      0      0      1\n",
       " 15231 │ 15231      0      0      0      1      1\n",
       " 15232 │ 15232      0      0      0      1      1\n",
       " 15233 │ 15233      1      0      0      0      1\n",
       "\u001b[36m                                15218 rows omitted\u001b[0m"
      ]
     },
     "metadata": {},
     "output_type": "display_data"
    }
   ],
   "source": [
    "# read in .out files to a dataframe\n",
    "\n",
    "using DelimitedFiles\n",
    "using DataFrames\n",
    "\n",
    "function read_out_file(filename::AbstractString; delim::Char=' ')\n",
    "    data = readdlm(filename, delim, Int)\n",
    "    col_names = [:pos, :A, :C, :G, :T, :n]\n",
    "    df = DataFrame(data, col_names)\n",
    "    return df\n",
    "end\n",
    "\n",
    "out = read_out_file(path)"
   ]
  },
  {
   "cell_type": "code",
   "execution_count": 3,
   "metadata": {},
   "outputs": [
    {
     "data": {
      "text/html": [
       "<div><div style = \"float: left;\"><span>54×6 DataFrame</span></div><div style = \"float: right;\"><span style = \"font-style: italic;\">29 rows omitted</span></div><div style = \"clear: both;\"></div></div><div class = \"data-frame\" style = \"overflow-x: scroll;\"><table class = \"data-frame\" style = \"margin-bottom: 6px;\"><thead><tr class = \"header\"><th class = \"rowNumber\" style = \"font-weight: bold; text-align: right;\">Row</th><th style = \"text-align: left;\">pos</th><th style = \"text-align: left;\">A</th><th style = \"text-align: left;\">C</th><th style = \"text-align: left;\">G</th><th style = \"text-align: left;\">T</th><th style = \"text-align: left;\">n</th></tr><tr class = \"subheader headerLastRow\"><th class = \"rowNumber\" style = \"font-weight: bold; text-align: right;\"></th><th title = \"Int64\" style = \"text-align: left;\">Int64</th><th title = \"Int64\" style = \"text-align: left;\">Int64</th><th title = \"Int64\" style = \"text-align: left;\">Int64</th><th title = \"Int64\" style = \"text-align: left;\">Int64</th><th title = \"Int64\" style = \"text-align: left;\">Int64</th><th title = \"Int64\" style = \"text-align: left;\">Int64</th></tr></thead><tbody><tr><td class = \"rowNumber\" style = \"font-weight: bold; text-align: right;\">1</td><td style = \"text-align: right;\">18</td><td style = \"text-align: right;\">238</td><td style = \"text-align: right;\">0</td><td style = \"text-align: right;\">94</td><td style = \"text-align: right;\">0</td><td style = \"text-align: right;\">332</td></tr><tr><td class = \"rowNumber\" style = \"font-weight: bold; text-align: right;\">2</td><td style = \"text-align: right;\">380</td><td style = \"text-align: right;\">2</td><td style = \"text-align: right;\">578</td><td style = \"text-align: right;\">2</td><td style = \"text-align: right;\">3499</td><td style = \"text-align: right;\">4081</td></tr><tr><td class = \"rowNumber\" style = \"font-weight: bold; text-align: right;\">3</td><td style = \"text-align: right;\">1082</td><td style = \"text-align: right;\">965</td><td style = \"text-align: right;\">11</td><td style = \"text-align: right;\">4666</td><td style = \"text-align: right;\">5</td><td style = \"text-align: right;\">5647</td></tr><tr><td class = \"rowNumber\" style = \"font-weight: bold; text-align: right;\">4</td><td style = \"text-align: right;\">1365</td><td style = \"text-align: right;\">1888</td><td style = \"text-align: right;\">10317</td><td style = \"text-align: right;\">1</td><td style = \"text-align: right;\">2</td><td style = \"text-align: right;\">12208</td></tr><tr><td class = \"rowNumber\" style = \"font-weight: bold; text-align: right;\">5</td><td style = \"text-align: right;\">1472</td><td style = \"text-align: right;\">4</td><td style = \"text-align: right;\">6529</td><td style = \"text-align: right;\">0</td><td style = \"text-align: right;\">1200</td><td style = \"text-align: right;\">7733</td></tr><tr><td class = \"rowNumber\" style = \"font-weight: bold; text-align: right;\">6</td><td style = \"text-align: right;\">2403</td><td style = \"text-align: right;\">6</td><td style = \"text-align: right;\">6576</td><td style = \"text-align: right;\">2</td><td style = \"text-align: right;\">980</td><td style = \"text-align: right;\">7564</td></tr><tr><td class = \"rowNumber\" style = \"font-weight: bold; text-align: right;\">7</td><td style = \"text-align: right;\">2454</td><td style = \"text-align: right;\">2</td><td style = \"text-align: right;\">5245</td><td style = \"text-align: right;\">0</td><td style = \"text-align: right;\">1263</td><td style = \"text-align: right;\">6510</td></tr><tr><td class = \"rowNumber\" style = \"font-weight: bold; text-align: right;\">8</td><td style = \"text-align: right;\">3072</td><td style = \"text-align: right;\">11</td><td style = \"text-align: right;\">10136</td><td style = \"text-align: right;\">0</td><td style = \"text-align: right;\">2122</td><td style = \"text-align: right;\">12269</td></tr><tr><td class = \"rowNumber\" style = \"font-weight: bold; text-align: right;\">9</td><td style = \"text-align: right;\">3361</td><td style = \"text-align: right;\">5</td><td style = \"text-align: right;\">3466</td><td style = \"text-align: right;\">7</td><td style = \"text-align: right;\">20808</td><td style = \"text-align: right;\">24286</td></tr><tr><td class = \"rowNumber\" style = \"font-weight: bold; text-align: right;\">10</td><td style = \"text-align: right;\">3647</td><td style = \"text-align: right;\">1505</td><td style = \"text-align: right;\">7282</td><td style = \"text-align: right;\">1</td><td style = \"text-align: right;\">2</td><td style = \"text-align: right;\">8790</td></tr><tr><td class = \"rowNumber\" style = \"font-weight: bold; text-align: right;\">11</td><td style = \"text-align: right;\">4090</td><td style = \"text-align: right;\">2</td><td style = \"text-align: right;\">1293</td><td style = \"text-align: right;\">1</td><td style = \"text-align: right;\">5538</td><td style = \"text-align: right;\">6834</td></tr><tr><td class = \"rowNumber\" style = \"font-weight: bold; text-align: right;\">12</td><td style = \"text-align: right;\">4353</td><td style = \"text-align: right;\">1</td><td style = \"text-align: right;\">478</td><td style = \"text-align: right;\">0</td><td style = \"text-align: right;\">3087</td><td style = \"text-align: right;\">3566</td></tr><tr><td class = \"rowNumber\" style = \"font-weight: bold; text-align: right;\">13</td><td style = \"text-align: right;\">4358</td><td style = \"text-align: right;\">2</td><td style = \"text-align: right;\">497</td><td style = \"text-align: right;\">0</td><td style = \"text-align: right;\">3096</td><td style = \"text-align: right;\">3595</td></tr><tr><td style = \"text-align: right;\">&vellip;</td><td style = \"text-align: right;\">&vellip;</td><td style = \"text-align: right;\">&vellip;</td><td style = \"text-align: right;\">&vellip;</td><td style = \"text-align: right;\">&vellip;</td><td style = \"text-align: right;\">&vellip;</td><td style = \"text-align: right;\">&vellip;</td></tr><tr><td class = \"rowNumber\" style = \"font-weight: bold; text-align: right;\">43</td><td style = \"text-align: right;\">6169</td><td style = \"text-align: right;\">9</td><td style = \"text-align: right;\">18998</td><td style = \"text-align: right;\">2</td><td style = \"text-align: right;\">4028</td><td style = \"text-align: right;\">23037</td></tr><tr><td class = \"rowNumber\" style = \"font-weight: bold; text-align: right;\">44</td><td style = \"text-align: right;\">6223</td><td style = \"text-align: right;\">13</td><td style = \"text-align: right;\">16628</td><td style = \"text-align: right;\">0</td><td style = \"text-align: right;\">3620</td><td style = \"text-align: right;\">20261</td></tr><tr><td class = \"rowNumber\" style = \"font-weight: bold; text-align: right;\">45</td><td style = \"text-align: right;\">6305</td><td style = \"text-align: right;\">5895</td><td style = \"text-align: right;\">1795</td><td style = \"text-align: right;\">1656</td><td style = \"text-align: right;\">1</td><td style = \"text-align: right;\">9347</td></tr><tr><td class = \"rowNumber\" style = \"font-weight: bold; text-align: right;\">46</td><td style = \"text-align: right;\">6306</td><td style = \"text-align: right;\">7712</td><td style = \"text-align: right;\">5</td><td style = \"text-align: right;\">1526</td><td style = \"text-align: right;\">1</td><td style = \"text-align: right;\">9244</td></tr><tr><td class = \"rowNumber\" style = \"font-weight: bold; text-align: right;\">47</td><td style = \"text-align: right;\">6518</td><td style = \"text-align: right;\">6081</td><td style = \"text-align: right;\">0</td><td style = \"text-align: right;\">1218</td><td style = \"text-align: right;\">4</td><td style = \"text-align: right;\">7303</td></tr><tr><td class = \"rowNumber\" style = \"font-weight: bold; text-align: right;\">48</td><td style = \"text-align: right;\">6655</td><td style = \"text-align: right;\">4</td><td style = \"text-align: right;\">15764</td><td style = \"text-align: right;\">5</td><td style = \"text-align: right;\">2223</td><td style = \"text-align: right;\">17996</td></tr><tr><td class = \"rowNumber\" style = \"font-weight: bold; text-align: right;\">49</td><td style = \"text-align: right;\">6966</td><td style = \"text-align: right;\">15219</td><td style = \"text-align: right;\">0</td><td style = \"text-align: right;\">3539</td><td style = \"text-align: right;\">1</td><td style = \"text-align: right;\">18759</td></tr><tr><td class = \"rowNumber\" style = \"font-weight: bold; text-align: right;\">50</td><td style = \"text-align: right;\">7042</td><td style = \"text-align: right;\">1008</td><td style = \"text-align: right;\">3</td><td style = \"text-align: right;\">5627</td><td style = \"text-align: right;\">9</td><td style = \"text-align: right;\">6647</td></tr><tr><td class = \"rowNumber\" style = \"font-weight: bold; text-align: right;\">51</td><td style = \"text-align: right;\">7174</td><td style = \"text-align: right;\">2137</td><td style = \"text-align: right;\">0</td><td style = \"text-align: right;\">362</td><td style = \"text-align: right;\">2</td><td style = \"text-align: right;\">2501</td></tr><tr><td class = \"rowNumber\" style = \"font-weight: bold; text-align: right;\">52</td><td style = \"text-align: right;\">9928</td><td style = \"text-align: right;\">4834</td><td style = \"text-align: right;\">1</td><td style = \"text-align: right;\">26</td><td style = \"text-align: right;\">569</td><td style = \"text-align: right;\">5430</td></tr><tr><td class = \"rowNumber\" style = \"font-weight: bold; text-align: right;\">53</td><td style = \"text-align: right;\">13489</td><td style = \"text-align: right;\">251</td><td style = \"text-align: right;\">0</td><td style = \"text-align: right;\">1338</td><td style = \"text-align: right;\">0</td><td style = \"text-align: right;\">1589</td></tr><tr><td class = \"rowNumber\" style = \"font-weight: bold; text-align: right;\">54</td><td style = \"text-align: right;\">13798</td><td style = \"text-align: right;\">813</td><td style = \"text-align: right;\">127</td><td style = \"text-align: right;\">0</td><td style = \"text-align: right;\">0</td><td style = \"text-align: right;\">940</td></tr></tbody></table></div>"
      ],
      "text/latex": [
       "\\begin{tabular}{r|cccccc}\n",
       "\t& pos & A & C & G & T & n\\\\\n",
       "\t\\hline\n",
       "\t& Int64 & Int64 & Int64 & Int64 & Int64 & Int64\\\\\n",
       "\t\\hline\n",
       "\t1 & 18 & 238 & 0 & 94 & 0 & 332 \\\\\n",
       "\t2 & 380 & 2 & 578 & 2 & 3499 & 4081 \\\\\n",
       "\t3 & 1082 & 965 & 11 & 4666 & 5 & 5647 \\\\\n",
       "\t4 & 1365 & 1888 & 10317 & 1 & 2 & 12208 \\\\\n",
       "\t5 & 1472 & 4 & 6529 & 0 & 1200 & 7733 \\\\\n",
       "\t6 & 2403 & 6 & 6576 & 2 & 980 & 7564 \\\\\n",
       "\t7 & 2454 & 2 & 5245 & 0 & 1263 & 6510 \\\\\n",
       "\t8 & 3072 & 11 & 10136 & 0 & 2122 & 12269 \\\\\n",
       "\t9 & 3361 & 5 & 3466 & 7 & 20808 & 24286 \\\\\n",
       "\t10 & 3647 & 1505 & 7282 & 1 & 2 & 8790 \\\\\n",
       "\t11 & 4090 & 2 & 1293 & 1 & 5538 & 6834 \\\\\n",
       "\t12 & 4353 & 1 & 478 & 0 & 3087 & 3566 \\\\\n",
       "\t13 & 4358 & 2 & 497 & 0 & 3096 & 3595 \\\\\n",
       "\t14 & 4371 & 0 & 628 & 0 & 3378 & 4006 \\\\\n",
       "\t15 & 4533 & 0 & 1460 & 2 & 9678 & 11140 \\\\\n",
       "\t16 & 4606 & 7480 & 1 & 5 & 1760 & 9246 \\\\\n",
       "\t17 & 4770 & 2 & 3381 & 1 & 5557 & 8941 \\\\\n",
       "\t18 & 4786 & 0 & 1940 & 1 & 7105 & 9046 \\\\\n",
       "\t19 & 4787 & 3 & 1510 & 0 & 7591 & 9104 \\\\\n",
       "\t20 & 4794 & 5 & 1843 & 3 & 7404 & 9255 \\\\\n",
       "\t21 & 4820 & 7 & 4625 & 0 & 5872 & 10504 \\\\\n",
       "\t22 & 4838 & 0 & 7661 & 3 & 5007 & 12671 \\\\\n",
       "\t23 & 4871 & 6 & 7908 & 0 & 9292 & 17206 \\\\\n",
       "\t24 & 4875 & 35 & 3686 & 1 & 13520 & 17242 \\\\\n",
       "\t$\\dots$ & $\\dots$ & $\\dots$ & $\\dots$ & $\\dots$ & $\\dots$ & $\\dots$ \\\\\n",
       "\\end{tabular}\n"
      ],
      "text/plain": [
       "\u001b[1m54×6 DataFrame\u001b[0m\n",
       "\u001b[1m Row \u001b[0m│\u001b[1m pos   \u001b[0m\u001b[1m A     \u001b[0m\u001b[1m C     \u001b[0m\u001b[1m G     \u001b[0m\u001b[1m T     \u001b[0m\u001b[1m n     \u001b[0m\n",
       "     │\u001b[90m Int64 \u001b[0m\u001b[90m Int64 \u001b[0m\u001b[90m Int64 \u001b[0m\u001b[90m Int64 \u001b[0m\u001b[90m Int64 \u001b[0m\u001b[90m Int64 \u001b[0m\n",
       "─────┼──────────────────────────────────────────\n",
       "   1 │    18    238      0     94      0    332\n",
       "   2 │   380      2    578      2   3499   4081\n",
       "   3 │  1082    965     11   4666      5   5647\n",
       "   4 │  1365   1888  10317      1      2  12208\n",
       "   5 │  1472      4   6529      0   1200   7733\n",
       "   6 │  2403      6   6576      2    980   7564\n",
       "   7 │  2454      2   5245      0   1263   6510\n",
       "   8 │  3072     11  10136      0   2122  12269\n",
       "  ⋮  │   ⋮      ⋮      ⋮      ⋮      ⋮      ⋮\n",
       "  48 │  6655      4  15764      5   2223  17996\n",
       "  49 │  6966  15219      0   3539      1  18759\n",
       "  50 │  7042   1008      3   5627      9   6647\n",
       "  51 │  7174   2137      0    362      2   2501\n",
       "  52 │  9928   4834      1     26    569   5430\n",
       "  53 │ 13489    251      0   1338      0   1589\n",
       "  54 │ 13798    813    127      0      0    940\n",
       "\u001b[36m                                 39 rows omitted\u001b[0m"
      ]
     },
     "metadata": {},
     "output_type": "display_data"
    }
   ],
   "source": [
    "# filter out low coverage and by minimum variant threshold\n",
    "# function to filter out positions with low coverage\n",
    "function filter_coverage(df::DataFrame, threshold::Int)\n",
    "    return filter(row -> row.n >= threshold, df)\n",
    "end\n",
    "\n",
    "# look for variants at > minimum frequency\n",
    "function filter_positions(df::DataFrame, proportion::Float64)\n",
    "    # Validate that the required columns are present in the DataFrame\n",
    "    required_columns = [\"A\", \"C\", \"G\", \"T\", \"n\"]\n",
    "    for col in required_columns\n",
    "        if !(col in names(df))\n",
    "            error(\"DataFrame must contain the columns: A, C, G, T, and n\")\n",
    "        end\n",
    "    end\n",
    "    \n",
    "    # Function to check if any of three smallest columns are greater than n * proportion\n",
    "    function check_proportion(row)\n",
    "        values = [row.A, row.C, row.G, row.T]\n",
    "        sorted_indices = sortperm(values, rev=true)  # Sort indices based on values descending\n",
    "        max_index = sorted_indices[1]                # Index of the maximum value\n",
    "        remaining_values = deleteat!(values, max_index)  # Remove the maximum value\n",
    "        \n",
    "        # Check if any remaining value exceeds n * proportion\n",
    "        return any(v -> v > row.n * proportion, remaining_values)\n",
    "    end\n",
    "    \n",
    "    # Filter rows based on the check_proportion function\n",
    "    return filter(check_proportion, df)\n",
    "end\n",
    "\n",
    "filtered = filter_coverage(out, coverage_threshold)\n",
    "filtered = filter_positions(filtered, minimum_frequency)\n",
    "\n",
    "filtered"
   ]
  },
  {
   "cell_type": "code",
   "execution_count": 4,
   "metadata": {},
   "outputs": [
    {
     "data": {
      "text/html": [
       "<div><div style = \"float: left;\"><span>54×5 DataFrame</span></div><div style = \"float: right;\"><span style = \"font-style: italic;\">29 rows omitted</span></div><div style = \"clear: both;\"></div></div><div class = \"data-frame\" style = \"overflow-x: scroll;\"><table class = \"data-frame\" style = \"margin-bottom: 6px;\"><thead><tr class = \"header\"><th class = \"rowNumber\" style = \"font-weight: bold; text-align: right;\">Row</th><th style = \"text-align: left;\">pos</th><th style = \"text-align: left;\">original_base</th><th style = \"text-align: left;\">variant_base</th><th style = \"text-align: left;\">freq</th><th style = \"text-align: left;\">mutation</th></tr><tr class = \"subheader headerLastRow\"><th class = \"rowNumber\" style = \"font-weight: bold; text-align: right;\"></th><th title = \"Int64\" style = \"text-align: left;\">Int64</th><th title = \"String\" style = \"text-align: left;\">String</th><th title = \"String\" style = \"text-align: left;\">String</th><th title = \"Float64\" style = \"text-align: left;\">Float64</th><th title = \"String\" style = \"text-align: left;\">String</th></tr></thead><tbody><tr><td class = \"rowNumber\" style = \"font-weight: bold; text-align: right;\">1</td><td style = \"text-align: right;\">18</td><td style = \"text-align: left;\">A</td><td style = \"text-align: left;\">G</td><td style = \"text-align: right;\">0.283133</td><td style = \"text-align: left;\">A-&gt;G</td></tr><tr><td class = \"rowNumber\" style = \"font-weight: bold; text-align: right;\">2</td><td style = \"text-align: right;\">380</td><td style = \"text-align: left;\">T</td><td style = \"text-align: left;\">C</td><td style = \"text-align: right;\">0.141632</td><td style = \"text-align: left;\">T-&gt;C</td></tr><tr><td class = \"rowNumber\" style = \"font-weight: bold; text-align: right;\">3</td><td style = \"text-align: right;\">1082</td><td style = \"text-align: left;\">G</td><td style = \"text-align: left;\">A</td><td style = \"text-align: right;\">0.170887</td><td style = \"text-align: left;\">G-&gt;A</td></tr><tr><td class = \"rowNumber\" style = \"font-weight: bold; text-align: right;\">4</td><td style = \"text-align: right;\">1365</td><td style = \"text-align: left;\">C</td><td style = \"text-align: left;\">A</td><td style = \"text-align: right;\">0.154653</td><td style = \"text-align: left;\">C-&gt;A</td></tr><tr><td class = \"rowNumber\" style = \"font-weight: bold; text-align: right;\">5</td><td style = \"text-align: right;\">1472</td><td style = \"text-align: left;\">C</td><td style = \"text-align: left;\">T</td><td style = \"text-align: right;\">0.155179</td><td style = \"text-align: left;\">C-&gt;T</td></tr><tr><td class = \"rowNumber\" style = \"font-weight: bold; text-align: right;\">6</td><td style = \"text-align: right;\">2403</td><td style = \"text-align: left;\">C</td><td style = \"text-align: left;\">T</td><td style = \"text-align: right;\">0.129561</td><td style = \"text-align: left;\">C-&gt;T</td></tr><tr><td class = \"rowNumber\" style = \"font-weight: bold; text-align: right;\">7</td><td style = \"text-align: right;\">2454</td><td style = \"text-align: left;\">C</td><td style = \"text-align: left;\">T</td><td style = \"text-align: right;\">0.194009</td><td style = \"text-align: left;\">C-&gt;T</td></tr><tr><td class = \"rowNumber\" style = \"font-weight: bold; text-align: right;\">8</td><td style = \"text-align: right;\">3072</td><td style = \"text-align: left;\">C</td><td style = \"text-align: left;\">T</td><td style = \"text-align: right;\">0.172956</td><td style = \"text-align: left;\">C-&gt;T</td></tr><tr><td class = \"rowNumber\" style = \"font-weight: bold; text-align: right;\">9</td><td style = \"text-align: right;\">3361</td><td style = \"text-align: left;\">T</td><td style = \"text-align: left;\">C</td><td style = \"text-align: right;\">0.142716</td><td style = \"text-align: left;\">T-&gt;C</td></tr><tr><td class = \"rowNumber\" style = \"font-weight: bold; text-align: right;\">10</td><td style = \"text-align: right;\">3647</td><td style = \"text-align: left;\">C</td><td style = \"text-align: left;\">A</td><td style = \"text-align: right;\">0.171217</td><td style = \"text-align: left;\">C-&gt;A</td></tr><tr><td class = \"rowNumber\" style = \"font-weight: bold; text-align: right;\">11</td><td style = \"text-align: right;\">4090</td><td style = \"text-align: left;\">T</td><td style = \"text-align: left;\">C</td><td style = \"text-align: right;\">0.189201</td><td style = \"text-align: left;\">T-&gt;C</td></tr><tr><td class = \"rowNumber\" style = \"font-weight: bold; text-align: right;\">12</td><td style = \"text-align: right;\">4353</td><td style = \"text-align: left;\">T</td><td style = \"text-align: left;\">C</td><td style = \"text-align: right;\">0.134044</td><td style = \"text-align: left;\">T-&gt;C</td></tr><tr><td class = \"rowNumber\" style = \"font-weight: bold; text-align: right;\">13</td><td style = \"text-align: right;\">4358</td><td style = \"text-align: left;\">T</td><td style = \"text-align: left;\">C</td><td style = \"text-align: right;\">0.138248</td><td style = \"text-align: left;\">T-&gt;C</td></tr><tr><td style = \"text-align: right;\">&vellip;</td><td style = \"text-align: right;\">&vellip;</td><td style = \"text-align: right;\">&vellip;</td><td style = \"text-align: right;\">&vellip;</td><td style = \"text-align: right;\">&vellip;</td><td style = \"text-align: right;\">&vellip;</td></tr><tr><td class = \"rowNumber\" style = \"font-weight: bold; text-align: right;\">43</td><td style = \"text-align: right;\">6169</td><td style = \"text-align: left;\">C</td><td style = \"text-align: left;\">T</td><td style = \"text-align: right;\">0.174849</td><td style = \"text-align: left;\">C-&gt;T</td></tr><tr><td class = \"rowNumber\" style = \"font-weight: bold; text-align: right;\">44</td><td style = \"text-align: right;\">6223</td><td style = \"text-align: left;\">C</td><td style = \"text-align: left;\">T</td><td style = \"text-align: right;\">0.178668</td><td style = \"text-align: left;\">C-&gt;T</td></tr><tr><td class = \"rowNumber\" style = \"font-weight: bold; text-align: right;\">45</td><td style = \"text-align: right;\">6305</td><td style = \"text-align: left;\">A</td><td style = \"text-align: left;\">C</td><td style = \"text-align: right;\">0.19204</td><td style = \"text-align: left;\">A-&gt;C</td></tr><tr><td class = \"rowNumber\" style = \"font-weight: bold; text-align: right;\">46</td><td style = \"text-align: right;\">6306</td><td style = \"text-align: left;\">A</td><td style = \"text-align: left;\">G</td><td style = \"text-align: right;\">0.16508</td><td style = \"text-align: left;\">A-&gt;G</td></tr><tr><td class = \"rowNumber\" style = \"font-weight: bold; text-align: right;\">47</td><td style = \"text-align: right;\">6518</td><td style = \"text-align: left;\">A</td><td style = \"text-align: left;\">G</td><td style = \"text-align: right;\">0.166781</td><td style = \"text-align: left;\">A-&gt;G</td></tr><tr><td class = \"rowNumber\" style = \"font-weight: bold; text-align: right;\">48</td><td style = \"text-align: right;\">6655</td><td style = \"text-align: left;\">C</td><td style = \"text-align: left;\">T</td><td style = \"text-align: right;\">0.123527</td><td style = \"text-align: left;\">C-&gt;T</td></tr><tr><td class = \"rowNumber\" style = \"font-weight: bold; text-align: right;\">49</td><td style = \"text-align: right;\">6966</td><td style = \"text-align: left;\">A</td><td style = \"text-align: left;\">G</td><td style = \"text-align: right;\">0.188656</td><td style = \"text-align: left;\">A-&gt;G</td></tr><tr><td class = \"rowNumber\" style = \"font-weight: bold; text-align: right;\">50</td><td style = \"text-align: right;\">7042</td><td style = \"text-align: left;\">G</td><td style = \"text-align: left;\">A</td><td style = \"text-align: right;\">0.151647</td><td style = \"text-align: left;\">G-&gt;A</td></tr><tr><td class = \"rowNumber\" style = \"font-weight: bold; text-align: right;\">51</td><td style = \"text-align: right;\">7174</td><td style = \"text-align: left;\">A</td><td style = \"text-align: left;\">G</td><td style = \"text-align: right;\">0.144742</td><td style = \"text-align: left;\">A-&gt;G</td></tr><tr><td class = \"rowNumber\" style = \"font-weight: bold; text-align: right;\">52</td><td style = \"text-align: right;\">9928</td><td style = \"text-align: left;\">A</td><td style = \"text-align: left;\">T</td><td style = \"text-align: right;\">0.104788</td><td style = \"text-align: left;\">A-&gt;T</td></tr><tr><td class = \"rowNumber\" style = \"font-weight: bold; text-align: right;\">53</td><td style = \"text-align: right;\">13489</td><td style = \"text-align: left;\">G</td><td style = \"text-align: left;\">A</td><td style = \"text-align: right;\">0.157961</td><td style = \"text-align: left;\">G-&gt;A</td></tr><tr><td class = \"rowNumber\" style = \"font-weight: bold; text-align: right;\">54</td><td style = \"text-align: right;\">13798</td><td style = \"text-align: left;\">A</td><td style = \"text-align: left;\">C</td><td style = \"text-align: right;\">0.135106</td><td style = \"text-align: left;\">A-&gt;C</td></tr></tbody></table></div>"
      ],
      "text/latex": [
       "\\begin{tabular}{r|ccccc}\n",
       "\t& pos & original\\_base & variant\\_base & freq & mutation\\\\\n",
       "\t\\hline\n",
       "\t& Int64 & String & String & Float64 & String\\\\\n",
       "\t\\hline\n",
       "\t1 & 18 & A & G & 0.283133 & A->G \\\\\n",
       "\t2 & 380 & T & C & 0.141632 & T->C \\\\\n",
       "\t3 & 1082 & G & A & 0.170887 & G->A \\\\\n",
       "\t4 & 1365 & C & A & 0.154653 & C->A \\\\\n",
       "\t5 & 1472 & C & T & 0.155179 & C->T \\\\\n",
       "\t6 & 2403 & C & T & 0.129561 & C->T \\\\\n",
       "\t7 & 2454 & C & T & 0.194009 & C->T \\\\\n",
       "\t8 & 3072 & C & T & 0.172956 & C->T \\\\\n",
       "\t9 & 3361 & T & C & 0.142716 & T->C \\\\\n",
       "\t10 & 3647 & C & A & 0.171217 & C->A \\\\\n",
       "\t11 & 4090 & T & C & 0.189201 & T->C \\\\\n",
       "\t12 & 4353 & T & C & 0.134044 & T->C \\\\\n",
       "\t13 & 4358 & T & C & 0.138248 & T->C \\\\\n",
       "\t14 & 4371 & T & C & 0.156765 & T->C \\\\\n",
       "\t15 & 4533 & T & C & 0.131059 & T->C \\\\\n",
       "\t16 & 4606 & A & T & 0.190353 & A->T \\\\\n",
       "\t17 & 4770 & T & C & 0.378146 & T->C \\\\\n",
       "\t18 & 4786 & T & C & 0.214459 & T->C \\\\\n",
       "\t19 & 4787 & T & C & 0.165861 & T->C \\\\\n",
       "\t20 & 4794 & T & C & 0.199136 & T->C \\\\\n",
       "\t21 & 4820 & T & C & 0.440308 & T->C \\\\\n",
       "\t22 & 4838 & C & T & 0.395154 & C->T \\\\\n",
       "\t23 & 4871 & T & C & 0.459607 & T->C \\\\\n",
       "\t24 & 4875 & T & C & 0.21378 & T->C \\\\\n",
       "\t$\\dots$ & $\\dots$ & $\\dots$ & $\\dots$ & $\\dots$ & $\\dots$ \\\\\n",
       "\\end{tabular}\n"
      ],
      "text/plain": [
       "\u001b[1m54×5 DataFrame\u001b[0m\n",
       "\u001b[1m Row \u001b[0m│\u001b[1m pos   \u001b[0m\u001b[1m original_base \u001b[0m\u001b[1m variant_base \u001b[0m\u001b[1m freq     \u001b[0m\u001b[1m mutation \u001b[0m\n",
       "     │\u001b[90m Int64 \u001b[0m\u001b[90m String        \u001b[0m\u001b[90m String       \u001b[0m\u001b[90m Float64  \u001b[0m\u001b[90m String   \u001b[0m\n",
       "─────┼────────────────────────────────────────────────────────\n",
       "   1 │    18  A              G             0.283133  A->G\n",
       "   2 │   380  T              C             0.141632  T->C\n",
       "   3 │  1082  G              A             0.170887  G->A\n",
       "   4 │  1365  C              A             0.154653  C->A\n",
       "   5 │  1472  C              T             0.155179  C->T\n",
       "   6 │  2403  C              T             0.129561  C->T\n",
       "   7 │  2454  C              T             0.194009  C->T\n",
       "   8 │  3072  C              T             0.172956  C->T\n",
       "  ⋮  │   ⋮          ⋮             ⋮           ⋮         ⋮\n",
       "  48 │  6655  C              T             0.123527  C->T\n",
       "  49 │  6966  A              G             0.188656  A->G\n",
       "  50 │  7042  G              A             0.151647  G->A\n",
       "  51 │  7174  A              G             0.144742  A->G\n",
       "  52 │  9928  A              T             0.104788  A->T\n",
       "  53 │ 13489  G              A             0.157961  G->A\n",
       "  54 │ 13798  A              C             0.135106  A->C\n",
       "\u001b[36m                                               39 rows omitted\u001b[0m"
      ]
     },
     "metadata": {},
     "output_type": "display_data"
    }
   ],
   "source": [
    "# pull out variants\n",
    "# function to pull out the variants in an easier format\n",
    "function pull_variants(df::DataFrame)\n",
    "    # Define the result DataFrame with the specified columns\n",
    "    result_df = DataFrame(pos = Int[], original_base = String[], variant_base = String[], freq = Float64[])\n",
    "    \n",
    "    # Process each row of the input DataFrame\n",
    "    for row in eachrow(df)\n",
    "        pos = row[:pos]\n",
    "        bases = [:A, :C, :G, :T]\n",
    "        counts = [row.A, row.C, row.G, row.T]\n",
    "        \n",
    "        # Sort bases by their counts in descending order\n",
    "        sorted_indices = sortperm(counts, rev=true)\n",
    "        \n",
    "        # Find the bases with the highest and second highest counts\n",
    "        highest_base = bases[sorted_indices[1]]\n",
    "        second_highest_base = bases[sorted_indices[2]]\n",
    "        \n",
    "        # Calculate the frequency of the second highest base\n",
    "        freq = counts[sorted_indices[2]] / row.n\n",
    "        \n",
    "        # Append the results to the DataFrame, converting symbols to strings\n",
    "        push!(result_df, (pos, string(highest_base), string(second_highest_base), freq))\n",
    "    end\n",
    "    \n",
    "    return result_df\n",
    "end\n",
    "\n",
    "# function for a mutation column\n",
    "function call_muts(df::DataFrame)\n",
    "    # Check if the required columns are present in the DataFrame\n",
    "    if !(\"original_base\" in names(df) && \"variant_base\" in names(df))\n",
    "        error(\"DataFrame must contain 'original_base' and 'variant_base' columns\")\n",
    "    end\n",
    "\n",
    "    # Create a new column 'mutation' by concatenating 'original_base', '->', and 'variant_base'\n",
    "    df.mutation = df.original_base .* \"->\" .* df.variant_base\n",
    "    \n",
    "    return df\n",
    "end\n",
    "\n",
    "variants = pull_variants(filtered)\n",
    "variants = call_muts(variants)\n",
    "\n",
    "variants"
   ]
  }
 ],
 "metadata": {
  "kernelspec": {
   "display_name": "Julia 1.10.3",
   "language": "julia",
   "name": "julia-1.10"
  },
  "language_info": {
   "file_extension": ".jl",
   "mimetype": "application/julia",
   "name": "julia",
   "version": "1.10.3"
  }
 },
 "nbformat": 4,
 "nbformat_minor": 2
}
