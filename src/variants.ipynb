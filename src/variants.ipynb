{
 "cells": [
  {
   "cell_type": "markdown",
   "metadata": {},
   "source": [
    "# from .out file to a plot of mutation directions\n",
    "\n",
    "put full path to single_locus_trajectories.out file, full path to reference .dat file, desired coverage cutoff, and desired minimum variant frequency below"
   ]
  },
  {
   "cell_type": "code",
   "execution_count": 5,
   "metadata": {},
   "outputs": [
    {
     "data": {
      "text/plain": [
       "0.1"
      ]
     },
     "metadata": {},
     "output_type": "display_data"
    }
   ],
   "source": [
    "variant_path = \"/Users/e.smith.5/Documents/PhD/RSV_project/RSV_haplotype_reconstruction/data/Single_locus_trajectories10.out\"\n",
    "\n",
    "ref_dat_path = \"/Users/e.smith.5/Documents/PhD/RSV_project/RSV_haplotype_reconstruction/data/ref/Reading_Frames.dat\"\n",
    "\n",
    "coverage_threshold = 0\n",
    "\n",
    "minimum_frequency = 0.1"
   ]
  },
  {
   "cell_type": "code",
   "execution_count": 6,
   "metadata": {},
   "outputs": [
    {
     "data": {
      "text/html": [
       "<div><div style = \"float: left;\"><span>169×4 DataFrame</span></div><div style = \"float: right;\"><span style = \"font-style: italic;\">144 rows omitted</span></div><div style = \"clear: both;\"></div></div><div class = \"data-frame\" style = \"overflow-x: scroll;\"><table class = \"data-frame\" style = \"margin-bottom: 6px;\"><thead><tr class = \"header\"><th class = \"rowNumber\" style = \"font-weight: bold; text-align: right;\">Row</th><th style = \"text-align: left;\">pos</th><th style = \"text-align: left;\">original_base</th><th style = \"text-align: left;\">variant_base</th><th style = \"text-align: left;\">mutation</th></tr><tr class = \"subheader headerLastRow\"><th class = \"rowNumber\" style = \"font-weight: bold; text-align: right;\"></th><th title = \"Int64\" style = \"text-align: left;\">Int64</th><th title = \"String\" style = \"text-align: left;\">String</th><th title = \"String\" style = \"text-align: left;\">String</th><th title = \"CategoricalValue{String, UInt32}\" style = \"text-align: left;\">Cat…</th></tr></thead><tbody><tr><td class = \"rowNumber\" style = \"font-weight: bold; text-align: right;\">1</td><td style = \"text-align: right;\">11</td><td style = \"text-align: left;\">A</td><td style = \"text-align: left;\">G</td><td style = \"text-align: left;\">A-&gt;G</td></tr><tr><td class = \"rowNumber\" style = \"font-weight: bold; text-align: right;\">2</td><td style = \"text-align: right;\">18</td><td style = \"text-align: left;\">A</td><td style = \"text-align: left;\">G</td><td style = \"text-align: left;\">A-&gt;G</td></tr><tr><td class = \"rowNumber\" style = \"font-weight: bold; text-align: right;\">3</td><td style = \"text-align: right;\">141</td><td style = \"text-align: left;\">G</td><td style = \"text-align: left;\">A</td><td style = \"text-align: left;\">G-&gt;A</td></tr><tr><td class = \"rowNumber\" style = \"font-weight: bold; text-align: right;\">4</td><td style = \"text-align: right;\">144</td><td style = \"text-align: left;\">G</td><td style = \"text-align: left;\">T</td><td style = \"text-align: left;\">G-&gt;T</td></tr><tr><td class = \"rowNumber\" style = \"font-weight: bold; text-align: right;\">5</td><td style = \"text-align: right;\">380</td><td style = \"text-align: left;\">T</td><td style = \"text-align: left;\">C</td><td style = \"text-align: left;\">T-&gt;C</td></tr><tr><td class = \"rowNumber\" style = \"font-weight: bold; text-align: right;\">6</td><td style = \"text-align: right;\">576</td><td style = \"text-align: left;\">G</td><td style = \"text-align: left;\">A</td><td style = \"text-align: left;\">G-&gt;A</td></tr><tr><td class = \"rowNumber\" style = \"font-weight: bold; text-align: right;\">7</td><td style = \"text-align: right;\">754</td><td style = \"text-align: left;\">A</td><td style = \"text-align: left;\">G</td><td style = \"text-align: left;\">A-&gt;G</td></tr><tr><td class = \"rowNumber\" style = \"font-weight: bold; text-align: right;\">8</td><td style = \"text-align: right;\">811</td><td style = \"text-align: left;\">C</td><td style = \"text-align: left;\">T</td><td style = \"text-align: left;\">C-&gt;T</td></tr><tr><td class = \"rowNumber\" style = \"font-weight: bold; text-align: right;\">9</td><td style = \"text-align: right;\">977</td><td style = \"text-align: left;\">C</td><td style = \"text-align: left;\">A</td><td style = \"text-align: left;\">C-&gt;A</td></tr><tr><td class = \"rowNumber\" style = \"font-weight: bold; text-align: right;\">10</td><td style = \"text-align: right;\">1009</td><td style = \"text-align: left;\">A</td><td style = \"text-align: left;\">G</td><td style = \"text-align: left;\">A-&gt;G</td></tr><tr><td class = \"rowNumber\" style = \"font-weight: bold; text-align: right;\">11</td><td style = \"text-align: right;\">1056</td><td style = \"text-align: left;\">T</td><td style = \"text-align: left;\">A</td><td style = \"text-align: left;\">T-&gt;A</td></tr><tr><td class = \"rowNumber\" style = \"font-weight: bold; text-align: right;\">12</td><td style = \"text-align: right;\">1082</td><td style = \"text-align: left;\">G</td><td style = \"text-align: left;\">A</td><td style = \"text-align: left;\">G-&gt;A</td></tr><tr><td class = \"rowNumber\" style = \"font-weight: bold; text-align: right;\">13</td><td style = \"text-align: right;\">1084</td><td style = \"text-align: left;\">A</td><td style = \"text-align: left;\">G</td><td style = \"text-align: left;\">A-&gt;G</td></tr><tr><td style = \"text-align: right;\">&vellip;</td><td style = \"text-align: right;\">&vellip;</td><td style = \"text-align: right;\">&vellip;</td><td style = \"text-align: right;\">&vellip;</td><td style = \"text-align: right;\">&vellip;</td></tr><tr><td class = \"rowNumber\" style = \"font-weight: bold; text-align: right;\">158</td><td style = \"text-align: right;\">13489</td><td style = \"text-align: left;\">G</td><td style = \"text-align: left;\">A</td><td style = \"text-align: left;\">G-&gt;A</td></tr><tr><td class = \"rowNumber\" style = \"font-weight: bold; text-align: right;\">159</td><td style = \"text-align: right;\">13538</td><td style = \"text-align: left;\">G</td><td style = \"text-align: left;\">T</td><td style = \"text-align: left;\">G-&gt;T</td></tr><tr><td class = \"rowNumber\" style = \"font-weight: bold; text-align: right;\">160</td><td style = \"text-align: right;\">13661</td><td style = \"text-align: left;\">C</td><td style = \"text-align: left;\">T</td><td style = \"text-align: left;\">C-&gt;T</td></tr><tr><td class = \"rowNumber\" style = \"font-weight: bold; text-align: right;\">161</td><td style = \"text-align: right;\">13769</td><td style = \"text-align: left;\">C</td><td style = \"text-align: left;\">A</td><td style = \"text-align: left;\">C-&gt;A</td></tr><tr><td class = \"rowNumber\" style = \"font-weight: bold; text-align: right;\">162</td><td style = \"text-align: right;\">13798</td><td style = \"text-align: left;\">A</td><td style = \"text-align: left;\">C</td><td style = \"text-align: left;\">A-&gt;C</td></tr><tr><td class = \"rowNumber\" style = \"font-weight: bold; text-align: right;\">163</td><td style = \"text-align: right;\">13861</td><td style = \"text-align: left;\">T</td><td style = \"text-align: left;\">C</td><td style = \"text-align: left;\">T-&gt;C</td></tr><tr><td class = \"rowNumber\" style = \"font-weight: bold; text-align: right;\">164</td><td style = \"text-align: right;\">14037</td><td style = \"text-align: left;\">G</td><td style = \"text-align: left;\">A</td><td style = \"text-align: left;\">G-&gt;A</td></tr><tr><td class = \"rowNumber\" style = \"font-weight: bold; text-align: right;\">165</td><td style = \"text-align: right;\">14042</td><td style = \"text-align: left;\">G</td><td style = \"text-align: left;\">A</td><td style = \"text-align: left;\">G-&gt;A</td></tr><tr><td class = \"rowNumber\" style = \"font-weight: bold; text-align: right;\">166</td><td style = \"text-align: right;\">14200</td><td style = \"text-align: left;\">A</td><td style = \"text-align: left;\">G</td><td style = \"text-align: left;\">A-&gt;G</td></tr><tr><td class = \"rowNumber\" style = \"font-weight: bold; text-align: right;\">167</td><td style = \"text-align: right;\">14428</td><td style = \"text-align: left;\">T</td><td style = \"text-align: left;\">C</td><td style = \"text-align: left;\">T-&gt;C</td></tr><tr><td class = \"rowNumber\" style = \"font-weight: bold; text-align: right;\">168</td><td style = \"text-align: right;\">14616</td><td style = \"text-align: left;\">C</td><td style = \"text-align: left;\">T</td><td style = \"text-align: left;\">C-&gt;T</td></tr><tr><td class = \"rowNumber\" style = \"font-weight: bold; text-align: right;\">169</td><td style = \"text-align: right;\">15041</td><td style = \"text-align: left;\">G</td><td style = \"text-align: left;\">T</td><td style = \"text-align: left;\">G-&gt;T</td></tr></tbody></table></div>"
      ],
      "text/latex": [
       "\\begin{tabular}{r|cccc}\n",
       "\t& pos & original\\_base & variant\\_base & mutation\\\\\n",
       "\t\\hline\n",
       "\t& Int64 & String & String & Cat…\\\\\n",
       "\t\\hline\n",
       "\t1 & 11 & A & G & A->G \\\\\n",
       "\t2 & 18 & A & G & A->G \\\\\n",
       "\t3 & 141 & G & A & G->A \\\\\n",
       "\t4 & 144 & G & T & G->T \\\\\n",
       "\t5 & 380 & T & C & T->C \\\\\n",
       "\t6 & 576 & G & A & G->A \\\\\n",
       "\t7 & 754 & A & G & A->G \\\\\n",
       "\t8 & 811 & C & T & C->T \\\\\n",
       "\t9 & 977 & C & A & C->A \\\\\n",
       "\t10 & 1009 & A & G & A->G \\\\\n",
       "\t11 & 1056 & T & A & T->A \\\\\n",
       "\t12 & 1082 & G & A & G->A \\\\\n",
       "\t13 & 1084 & A & G & A->G \\\\\n",
       "\t14 & 1365 & C & A & C->A \\\\\n",
       "\t15 & 1472 & C & T & C->T \\\\\n",
       "\t16 & 1579 & C & A & C->A \\\\\n",
       "\t17 & 1940 & C & T & C->T \\\\\n",
       "\t18 & 1959 & A & G & A->G \\\\\n",
       "\t19 & 2281 & A & T & A->T \\\\\n",
       "\t20 & 2403 & C & T & C->T \\\\\n",
       "\t21 & 2454 & C & T & C->T \\\\\n",
       "\t22 & 2894 & A & G & A->G \\\\\n",
       "\t23 & 2919 & C & T & C->T \\\\\n",
       "\t24 & 2954 & C & T & C->T \\\\\n",
       "\t$\\dots$ & $\\dots$ & $\\dots$ & $\\dots$ & $\\dots$ \\\\\n",
       "\\end{tabular}\n"
      ],
      "text/plain": [
       "\u001b[1m169×4 DataFrame\u001b[0m\n",
       "\u001b[1m Row \u001b[0m│\u001b[1m pos   \u001b[0m\u001b[1m original_base \u001b[0m\u001b[1m variant_base \u001b[0m\u001b[1m mutation \u001b[0m\n",
       "     │\u001b[90m Int64 \u001b[0m\u001b[90m String        \u001b[0m\u001b[90m String       \u001b[0m\u001b[90m Cat…     \u001b[0m\n",
       "─────┼──────────────────────────────────────────────\n",
       "   1 │    11  A              G             A->G\n",
       "   2 │    18  A              G             A->G\n",
       "   3 │   141  G              A             G->A\n",
       "   4 │   144  G              T             G->T\n",
       "   5 │   380  T              C             T->C\n",
       "   6 │   576  G              A             G->A\n",
       "   7 │   754  A              G             A->G\n",
       "   8 │   811  C              T             C->T\n",
       "  ⋮  │   ⋮          ⋮             ⋮           ⋮\n",
       " 163 │ 13861  T              C             T->C\n",
       " 164 │ 14037  G              A             G->A\n",
       " 165 │ 14042  G              A             G->A\n",
       " 166 │ 14200  A              G             A->G\n",
       " 167 │ 14428  T              C             T->C\n",
       " 168 │ 14616  C              T             C->T\n",
       " 169 │ 15041  G              T             G->T\n",
       "\u001b[36m                                    154 rows omitted\u001b[0m"
      ]
     },
     "metadata": {},
     "output_type": "display_data"
    }
   ],
   "source": [
    "# read variants file into a dataframe\n",
    "using DataFrames\n",
    "\n",
    "# Define the function to read the .out file\n",
    "function read_out_file(filepath::String)\n",
    "    # Initialize an empty DataFrame\n",
    "    df = DataFrame(pos = Int[], original_base = String[], variant_base = String[])\n",
    "    \n",
    "    # Open the file and process each line\n",
    "    open(filepath, \"r\") do file\n",
    "        for line in eachline(file)\n",
    "            # Remove any leading/trailing whitespace\n",
    "            stripped_line = strip(line)\n",
    "            \n",
    "            # Continue only if the line is not empty\n",
    "            if !isempty(stripped_line)\n",
    "                # Split the line into parts, typically space-delimited\n",
    "                parts = split(stripped_line)\n",
    "                \n",
    "                # Ensure there are enough parts to avoid index errors\n",
    "                if length(parts) < 3\n",
    "                    continue  # Skip this line if it doesn't have enough parts\n",
    "                end\n",
    "\n",
    "                # Extract the position, original base, and variant base\n",
    "                pos = parse(Int, parts[1])\n",
    "                original_base = parts[2]  # Should be a single character string\n",
    "                variant_base = parts[3]   # Should be a single character string\n",
    "                \n",
    "                # Append to the DataFrame\n",
    "                push!(df, (pos, original_base, variant_base))\n",
    "            end\n",
    "        end\n",
    "    end\n",
    "    \n",
    "    return df\n",
    "end\n",
    "\n",
    "variants = read_out_file(variant_path)\n",
    "\n",
    "using CategoricalArrays\n",
    "\n",
    "function call_muts(df::DataFrame)\n",
    "    # Check if the required columns are present in the DataFrame\n",
    "    if !(\"original_base\" in names(df) && \"variant_base\" in names(df))\n",
    "        error(\"DataFrame must contain 'original_base' and 'variant_base' columns\")\n",
    "    end\n",
    "\n",
    "    # Create a new column 'mutation' by concatenating 'original_base', '->', 'variant_base'\n",
    "    mutations = df.original_base .* \"->\" .* df.variant_base\n",
    "\n",
    "    # Define the order of categories\n",
    "    levels_order = [\"A->C\", \"A->G\", \"A->T\", \"C->A\", \"C->G\", \"C->T\", \"G->A\", \"G->C\", \"G->T\", \"T->A\", \"T->C\", \"T->G\"]\n",
    "\n",
    "    # Convert 'mutations' into a categorical array with predefined levels\n",
    "    df.mutation = categorical(mutations, ordered=true, levels=levels_order)\n",
    "    \n",
    "    return df\n",
    "end\n",
    "\n",
    "variants = call_muts(variants)"
   ]
  },
  {
   "cell_type": "code",
   "execution_count": 7,
   "metadata": {},
   "outputs": [
    {
     "data": {
      "image/png": "[encoded data removed]",
      "text/html": [
       "<img src=\"data:image/png;base64,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\">"
      ],
      "text/plain": [
       "600×600 Array{RGBA{N0f8},2} with eltype RGBA{N0f8}:\n",
       " RGBA{N0f8}(1.0,1.0,1.0,1.0)  …  RGBA{N0f8}(1.0,1.0,1.0,1.0)\n",
       " RGBA{N0f8}(1.0,1.0,1.0,1.0)     RGBA{N0f8}(1.0,1.0,1.0,1.0)\n",
       " RGBA{N0f8}(1.0,1.0,1.0,1.0)     RGBA{N0f8}(1.0,1.0,1.0,1.0)\n",
       " RGBA{N0f8}(1.0,1.0,1.0,1.0)     RGBA{N0f8}(1.0,1.0,1.0,1.0)\n",
       " RGBA{N0f8}(1.0,1.0,1.0,1.0)     RGBA{N0f8}(1.0,1.0,1.0,1.0)\n",
       " RGBA{N0f8}(1.0,1.0,1.0,1.0)  …  RGBA{N0f8}(1.0,1.0,1.0,1.0)\n",
       " RGBA{N0f8}(1.0,1.0,1.0,1.0)     RGBA{N0f8}(1.0,1.0,1.0,1.0)\n",
       " RGBA{N0f8}(1.0,1.0,1.0,1.0)     RGBA{N0f8}(1.0,1.0,1.0,1.0)\n",
       " RGBA{N0f8}(1.0,1.0,1.0,1.0)     RGBA{N0f8}(1.0,1.0,1.0,1.0)\n",
       " RGBA{N0f8}(1.0,1.0,1.0,1.0)     RGBA{N0f8}(1.0,1.0,1.0,1.0)\n",
       " ⋮                            ⋱  \n",
       " RGBA{N0f8}(1.0,1.0,1.0,1.0)     RGBA{N0f8}(1.0,1.0,1.0,1.0)\n",
       " RGBA{N0f8}(1.0,1.0,1.0,1.0)     RGBA{N0f8}(1.0,1.0,1.0,1.0)\n",
       " RGBA{N0f8}(1.0,1.0,1.0,1.0)     RGBA{N0f8}(1.0,1.0,1.0,1.0)\n",
       " RGBA{N0f8}(1.0,1.0,1.0,1.0)     RGBA{N0f8}(1.0,1.0,1.0,1.0)\n",
       " RGBA{N0f8}(1.0,1.0,1.0,1.0)  …  RGBA{N0f8}(1.0,1.0,1.0,1.0)\n",
       " RGBA{N0f8}(1.0,1.0,1.0,1.0)     RGBA{N0f8}(1.0,1.0,1.0,1.0)\n",
       " RGBA{N0f8}(1.0,1.0,1.0,1.0)     RGBA{N0f8}(1.0,1.0,1.0,1.0)\n",
       " RGBA{N0f8}(1.0,1.0,1.0,1.0)     RGBA{N0f8}(1.0,1.0,1.0,1.0)\n",
       " RGBA{N0f8}(1.0,1.0,1.0,1.0)     RGBA{N0f8}(1.0,1.0,1.0,1.0)"
      ]
     },
     "metadata": {},
     "output_type": "display_data"
    },
    {
     "name": "stdout",
     "output_type": "stream",
     "text": [
      "Temporary file deleted successfully.\n"
     ]
    }
   ],
   "source": [
    "# barplot of mutation frequencies\n",
    "using RCall\n",
    "using FileIO  # To handle image files in Julia\n",
    "using Images  # Ensure you have this package\n",
    "\n",
    "@rput variants  # Send the DataFrame to R environment\n",
    "\n",
    "# Set the path for the temporary image file\n",
    "output_path = joinpath(pwd(), \"ggplot_output.png\")\n",
    "\n",
    "# Create the ggplot in R and save it as a PNG file\n",
    "R\"\"\"\n",
    "library(ggplot2)\n",
    "library(viridis)\n",
    "p <- ggplot(variants, aes(x = original_base, fill = variant_base)) +\n",
    "  geom_bar(stat = \"count\") +\n",
    "  theme_linedraw() +\n",
    "  theme(legend.position = \"bottom\") +\n",
    "  labs(title = \"Variant Frequencies\", x = \"Original Base\", y = \"Count\", fill = \"Variant Base\") +\n",
    "  scale_fill_viridis(discrete = TRUE, alpha = 0.8, direction = -1)\n",
    "\n",
    "png(filename = $output_path, width = 600, height = 600)\n",
    "print(p)\n",
    "dev.off()\n",
    "\"\"\"\n",
    "\n",
    "# Read and display the image file in Julia\n",
    "if isfile(output_path)\n",
    "    img = load(output_path)\n",
    "    display(img)\n",
    "\n",
    "    # Delete the temporary image file after displaying\n",
    "    rm(output_path; force = true)\n",
    "    println(\"Temporary file deleted successfully.\")\n",
    "else\n",
    "    println(\"File does not exist.\")\n",
    "end\n"
   ]
  },
  {
   "cell_type": "code",
   "execution_count": 8,
   "metadata": {},
   "outputs": [
    {
     "name": "stdout",
     "output_type": "stream",
     "text": [
      "nucleotide .fa : /Users/e.smith.5/Documents/PhD/RSV_project/RSV_haplotype_reconstruction/data/ref/Reading_Frames_nucleotide.fa\n",
      "amino acid .fa : /Users/e.smith.5/Documents/PhD/RSV_project/RSV_haplotype_reconstruction/data/ref/Reading_Frames_amino_acid.fa\n"
     ]
    }
   ],
   "source": [
    "# pull two .fas from .dat file \n",
    "using RCall\n",
    "\n",
    "# Function to handle the .dat file processing\n",
    "function pull_frames(dat_file_path::String)\n",
    "    # Define and call the R processing function within RCall\n",
    "    @rput dat_file_path  # This passes the Julia variable to R\n",
    "    R\"\"\"\n",
    "    library(Biostrings)\n",
    "    library(BiocGenerics)\n",
    "\n",
    "    process_file <- function(file_path) {\n",
    "        lines <- tryCatch({\n",
    "            readLines(file_path)\n",
    "        }, error = function(e) {\n",
    "            cat(\"Error reading file:\", e$message, \"\\n\")\n",
    "            return(NULL)  # Return NULL to handle error gracefully\n",
    "        })\n",
    "        if (is.null(lines)) return()  # Exit if file could not be read\n",
    "\n",
    "        fasta_nucleotide_path <- sub(\".dat$\", \"_nucleotide.fa\", file_path)\n",
    "        fasta_amino_acid_path <- sub(\".dat$\", \"_amino_acid.fa\", file_path)\n",
    "        \n",
    "        con_nuc <- file(fasta_nucleotide_path, open = \"w\")\n",
    "        con_aa <- file(fasta_amino_acid_path, open = \"w\")\n",
    "        \n",
    "        for (i in seq(1, length(lines), by = 3)) {\n",
    "            if (i + 2 > length(lines)) {\n",
    "                break\n",
    "            }\n",
    "            header <- strsplit(lines[i], \" \")[[1]]\n",
    "            if (length(header) < 3) {\n",
    "                next\n",
    "            }\n",
    "            start_pos <- header[1]\n",
    "            end_pos <- header[2]\n",
    "            annotation <- paste(header[3:length(header)], collapse=\" \")\n",
    "            full_annotation <- paste0('\"accession\":', start_pos, '..', end_pos, ' | ', annotation)\n",
    "            dna_seq <- DNAString(lines[i+1])\n",
    "            aa_seq <- AAString(lines[i+2])\n",
    "            \n",
    "            writeLines(paste0(\">\", full_annotation), con_nuc)\n",
    "            writeLines(as.character(dna_seq), con_nuc)\n",
    "            writeLines(paste0(\">\", full_annotation), con_aa)\n",
    "            writeLines(as.character(aa_seq), con_aa)\n",
    "        }\n",
    "        \n",
    "        close(con_nuc)\n",
    "        close(con_aa)\n",
    "    }\n",
    "    \"\"\"\n",
    "    # Call the R function from Julia\n",
    "    R\"process_file($(dat_file_path))\"\n",
    "    \n",
    "    # Julia takes over after the R function to print the paths\n",
    "    fasta_nucleotide_path = replace(dat_file_path, \".dat\" => \"_nucleotide.fa\")\n",
    "    fasta_amino_acid_path = replace(dat_file_path, \".dat\" => \"_amino_acid.fa\")\n",
    "    \n",
    "    println(\"nucleotide .fa : \", fasta_nucleotide_path)\n",
    "    println(\"amino acid .fa : \", fasta_amino_acid_path)\n",
    "end\n",
    "\n",
    "\n",
    "\n",
    "pull_frames(ref_dat_path)"
   ]
  }
 ],
 "metadata": {
  "kernelspec": {
   "display_name": "Julia 1.10.3",
   "language": "julia",
   "name": "julia-1.10"
  },
  "language_info": {
   "file_extension": ".jl",
   "mimetype": "application/julia",
   "name": "julia",
   "version": "1.10.3"
  }
 },
 "nbformat": 4,
 "nbformat_minor": 2
}
