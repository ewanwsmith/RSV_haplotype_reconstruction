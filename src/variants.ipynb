{
 "cells": [
  {
   "cell_type": "markdown",
   "metadata": {},
   "source": [
    "# from .out file to a plot of mutation directions\n",
    "\n",
    "put full path to Variants.out file, desired coverage cutoff, and desired minimum variant frequency below"
   ]
  },
  {
   "cell_type": "code",
   "execution_count": null,
   "metadata": {},
   "outputs": [],
   "source": [
    "path = \"/Users/e.smith.5/Documents/PhD/RSV_project/RSV_haplotype_reconstruction/data/Variants9.out\"\n",
    "\n",
    "coverage_threshold = 100\n",
    "\n",
    "minimum_frequency = 0.1"
   ]
  },
  {
   "cell_type": "code",
   "execution_count": null,
   "metadata": {},
   "outputs": [],
   "source": [
    "# read in .out files to a dataframe\n",
    "\n",
    "using DelimitedFiles\n",
    "using DataFrames\n",
    "\n",
    "function read_out_file(filename::AbstractString; delim::Char=' ')\n",
    "    data = readdlm(filename, delim, Int)\n",
    "    col_names = [:pos, :A, :C, :G, :T, :n]\n",
    "    df = DataFrame(data, col_names)\n",
    "    return df\n",
    "end\n",
    "\n",
    "out = read_out_file(path)"
   ]
  },
  {
   "cell_type": "code",
   "execution_count": null,
   "metadata": {},
   "outputs": [],
   "source": [
    "# filter out low coverage and by minimum variant threshold\n",
    "# function to filter out positions with low coverage\n",
    "function filter_coverage(df::DataFrame, threshold::Int)\n",
    "    return filter(row -> row.n >= threshold, df)\n",
    "end\n",
    "\n",
    "# look for variants at > minimum frequency\n",
    "function filter_positions(df::DataFrame, proportion::Float64)\n",
    "    # Validate that the required columns are present in the DataFrame\n",
    "    required_columns = [\"A\", \"C\", \"G\", \"T\", \"n\"]\n",
    "    for col in required_columns\n",
    "        if !(col in names(df))\n",
    "            error(\"DataFrame must contain the columns: A, C, G, T, and n\")\n",
    "        end\n",
    "    end\n",
    "    \n",
    "    # Function to check if any of three smallest columns are greater than n * proportion\n",
    "    function check_proportion(row)\n",
    "        values = [row.A, row.C, row.G, row.T]\n",
    "        sorted_indices = sortperm(values, rev=true)  # Sort indices based on values descending\n",
    "        max_index = sorted_indices[1]                # Index of the maximum value\n",
    "        remaining_values = deleteat!(values, max_index)  # Remove the maximum value\n",
    "        \n",
    "        # Check if any remaining value exceeds n * proportion\n",
    "        return any(v -> v > row.n * proportion, remaining_values)\n",
    "    end\n",
    "    \n",
    "    # Filter rows based on the check_proportion function\n",
    "    return filter(check_proportion, df)\n",
    "end\n",
    "\n",
    "filtered = filter_coverage(out, coverage_threshold)\n",
    "filtered = filter_positions(filtered, minimum_frequency)"
   ]
  },
  {
   "cell_type": "code",
   "execution_count": null,
   "metadata": {},
   "outputs": [],
   "source": [
    "# pull out variants\n",
    "# function to pull out the variants in an easier format\n",
    "function pull_variants(df::DataFrame)\n",
    "    # Define the result DataFrame with the specified columns\n",
    "    result_df = DataFrame(pos = Int[], original_base = String[], variant_base = String[], freq = Float64[])\n",
    "    \n",
    "    # Process each row of the input DataFrame\n",
    "    for row in eachrow(df)\n",
    "        pos = row[:pos]\n",
    "        bases = [:A, :C, :G, :T]\n",
    "        counts = [row.A, row.C, row.G, row.T]\n",
    "        \n",
    "        # Sort bases by their counts in descending order\n",
    "        sorted_indices = sortperm(counts, rev=true)\n",
    "        \n",
    "        # Find the bases with the highest and second highest counts\n",
    "        highest_base = bases[sorted_indices[1]]\n",
    "        second_highest_base = bases[sorted_indices[2]]\n",
    "        \n",
    "        # Calculate the frequency of the second highest base\n",
    "        freq = counts[sorted_indices[2]] / row.n\n",
    "        \n",
    "        # Append the results to the DataFrame, converting symbols to strings\n",
    "        push!(result_df, (pos, string(highest_base), string(second_highest_base), freq))\n",
    "    end\n",
    "    \n",
    "    return result_df\n",
    "end\n",
    "\n",
    "# function for a mutation column\n",
    "function call_muts(df::DataFrame)\n",
    "    # Check if the required columns are present in the DataFrame\n",
    "    if !(\"original_base\" in names(df) && \"variant_base\" in names(df))\n",
    "        error(\"DataFrame must contain 'original_base' and 'variant_base' columns\")\n",
    "    end\n",
    "\n",
    "    # Create a new column 'mutation' by concatenating 'original_base', '->', and 'variant_base'\n",
    "    df.mutation = df.original_base .* \"->\" .* df.variant_base\n",
    "    \n",
    "    return df\n",
    "end\n",
    "\n",
    "variants = pull_variants(filtered)\n",
    "variants = call_muts(variants)"
   ]
  }
 ],
 "metadata": {
  "kernelspec": {
   "display_name": "Julia 1.10.3",
   "language": "julia",
   "name": "julia-1.10"
  },
  "language_info": {
   "file_extension": ".jl",
   "mimetype": "application/julia",
   "name": "julia",
   "version": "1.10.3"
  }
 },
 "nbformat": 4,
 "nbformat_minor": 2
}
